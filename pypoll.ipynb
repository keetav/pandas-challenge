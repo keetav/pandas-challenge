import csv
with open('resources/election_data','r')as my_data:
    csv_reader=csv.reader(my_data)

    header=next(csv_reader)
    row_count=0
    candidates={}
    for row in csv_reader:
            # 1 the total number of votes
            row_count+=1


            # 2 A complete list of candidates who recieved vptes 
            candidate_name=row[2] # candidate name is in 3rd column
            if candidate_name not in candidates.keys(): # encounter new name
                print (candidate_name)
                candidates[candidate_name]=1
                
                #4 the total number of votes each candidate won
                else:
                    candidates[candidate_name]+=1

            #3 the percentage of votes each candidate won
                (candidates)/(candidate_name)

            #5 the winner of the election based on popular vote.

                # final answers
                print (row_count)
                print (candidates)
            with open(csvpath) as csvfile:

                csv_reader= csv.reader(csvfile,delimiter=',')

                csv_reader = next(csvreader)
                print(f"CSV Header: {csv_header}")

                # finding the list of Candidates

                for row in csvreader:
                        candidate_votes.append(row[2])
                        if row[2] not in candidate_list:
                                candidate_list.append(row[2]

                #find the total number of votes cast
                total_votes =(len(candidate_votes))

                # find the votes per candidate
                votes_tally = Counter(candidate_votes)

                # find the candidate with most votes
                votes_tally.most_common()
                votes_winner = votes_tally.most_common(1)[0[0]]

                # define variables for each candidate tally
                Kahn_votes = votes_tally['Khan']
                Correy_votes = votes_tally['Correy']
                li_votes = votes_tally['Li']
                OTooley_votes = votes_tally["0'Tooley"]

                print('')

                # find the candidate with